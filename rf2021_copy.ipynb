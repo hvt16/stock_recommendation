{
 "cells": [
  {
   "cell_type": "code",
   "execution_count": 1,
   "id": "lightweight-angel",
   "metadata": {},
   "outputs": [],
   "source": [
    "import datetime\n",
    "import numpy as np\n",
    "from matplotlib import cm, pyplot as plt\n",
    "import pandas as pd\n",
    "from pandas_datareader import data\n",
    "import ta"
   ]
  },
  {
   "cell_type": "code",
   "execution_count": 2,
   "id": "induced-receipt",
   "metadata": {},
   "outputs": [],
   "source": [
    "df = data.DataReader(\"^NSEI\",start='2017-01-01',end='2021-05-04', data_source='yahoo')"
   ]
  },
  {
   "cell_type": "code",
   "execution_count": 3,
   "id": "split-convention",
   "metadata": {},
   "outputs": [],
   "source": [
    "df.to_csv(\"nifty.csv\")"
   ]
  },
  {
   "cell_type": "code",
   "execution_count": 2,
   "id": "raised-plain",
   "metadata": {},
   "outputs": [],
   "source": [
    "df=pd.read_csv(\"nifty.csv\")"
   ]
  },
  {
   "cell_type": "code",
   "execution_count": 3,
   "id": "indirect-lecture",
   "metadata": {},
   "outputs": [
    {
     "data": {
      "text/html": [
       "<div>\n",
       "<style scoped>\n",
       "    .dataframe tbody tr th:only-of-type {\n",
       "        vertical-align: middle;\n",
       "    }\n",
       "\n",
       "    .dataframe tbody tr th {\n",
       "        vertical-align: top;\n",
       "    }\n",
       "\n",
       "    .dataframe thead th {\n",
       "        text-align: right;\n",
       "    }\n",
       "</style>\n",
       "<table border=\"1\" class=\"dataframe\">\n",
       "  <thead>\n",
       "    <tr style=\"text-align: right;\">\n",
       "      <th></th>\n",
       "      <th>Date</th>\n",
       "      <th>High</th>\n",
       "      <th>Low</th>\n",
       "      <th>Open</th>\n",
       "      <th>Close</th>\n",
       "      <th>Volume</th>\n",
       "      <th>Adj Close</th>\n",
       "    </tr>\n",
       "  </thead>\n",
       "  <tbody>\n",
       "    <tr>\n",
       "      <th>1060</th>\n",
       "      <td>2021-04-28</td>\n",
       "      <td>14890.250000</td>\n",
       "      <td>14694.950195</td>\n",
       "      <td>14710.500000</td>\n",
       "      <td>14864.549805</td>\n",
       "      <td>457000.0</td>\n",
       "      <td>14864.549805</td>\n",
       "    </tr>\n",
       "    <tr>\n",
       "      <th>1061</th>\n",
       "      <td>2021-04-29</td>\n",
       "      <td>15044.349609</td>\n",
       "      <td>14814.450195</td>\n",
       "      <td>14979.000000</td>\n",
       "      <td>14894.900391</td>\n",
       "      <td>517500.0</td>\n",
       "      <td>14894.900391</td>\n",
       "    </tr>\n",
       "    <tr>\n",
       "      <th>1062</th>\n",
       "      <td>2021-04-30</td>\n",
       "      <td>14855.450195</td>\n",
       "      <td>14601.700195</td>\n",
       "      <td>14747.349609</td>\n",
       "      <td>14631.099609</td>\n",
       "      <td>613900.0</td>\n",
       "      <td>14631.099609</td>\n",
       "    </tr>\n",
       "    <tr>\n",
       "      <th>1063</th>\n",
       "      <td>2021-05-03</td>\n",
       "      <td>14673.849609</td>\n",
       "      <td>14416.250000</td>\n",
       "      <td>14481.049805</td>\n",
       "      <td>14634.150391</td>\n",
       "      <td>448900.0</td>\n",
       "      <td>14634.150391</td>\n",
       "    </tr>\n",
       "    <tr>\n",
       "      <th>1064</th>\n",
       "      <td>2021-05-04</td>\n",
       "      <td>14723.400391</td>\n",
       "      <td>14461.500000</td>\n",
       "      <td>14687.250000</td>\n",
       "      <td>14496.500000</td>\n",
       "      <td>503400.0</td>\n",
       "      <td>14496.500000</td>\n",
       "    </tr>\n",
       "  </tbody>\n",
       "</table>\n",
       "</div>"
      ],
      "text/plain": [
       "            Date          High           Low          Open         Close  \\\n",
       "1060  2021-04-28  14890.250000  14694.950195  14710.500000  14864.549805   \n",
       "1061  2021-04-29  15044.349609  14814.450195  14979.000000  14894.900391   \n",
       "1062  2021-04-30  14855.450195  14601.700195  14747.349609  14631.099609   \n",
       "1063  2021-05-03  14673.849609  14416.250000  14481.049805  14634.150391   \n",
       "1064  2021-05-04  14723.400391  14461.500000  14687.250000  14496.500000   \n",
       "\n",
       "        Volume     Adj Close  \n",
       "1060  457000.0  14864.549805  \n",
       "1061  517500.0  14894.900391  \n",
       "1062  613900.0  14631.099609  \n",
       "1063  448900.0  14634.150391  \n",
       "1064  503400.0  14496.500000  "
      ]
     },
     "execution_count": 3,
     "metadata": {},
     "output_type": "execute_result"
    }
   ],
   "source": [
    "df.tail()"
   ]
  },
  {
   "cell_type": "code",
   "execution_count": 4,
   "id": "loose-robertson",
   "metadata": {},
   "outputs": [],
   "source": [
    "df[\"ho\"]=(((df.High-df.Open)/df.Open)*100)"
   ]
  },
  {
   "cell_type": "code",
   "execution_count": 5,
   "id": "empty-virgin",
   "metadata": {},
   "outputs": [],
   "source": [
    "df[\"ol\"]=(((df.Open-df.Low)/df.Open)*100)"
   ]
  },
  {
   "cell_type": "code",
   "execution_count": 6,
   "id": "designing-payment",
   "metadata": {},
   "outputs": [],
   "source": [
    "df[\"oc\"]=(((df.Open-df.Close)/df.Open)*100)"
   ]
  },
  {
   "cell_type": "code",
   "execution_count": 7,
   "id": "southwest-georgia",
   "metadata": {},
   "outputs": [],
   "source": [
    "df[\"hl\"]=(((df.High-df.Low)/df.Low)*100)"
   ]
  },
  {
   "cell_type": "code",
   "execution_count": 66,
   "id": "indian-spanish",
   "metadata": {},
   "outputs": [],
   "source": [
    "# 1 df['rsi']=ta.momentum.rsi(df[\"Close\"], n=14, fillna=False)\n",
    "# 1 df['r']=ta.momentum.wr(df[\"High\"], df[\"Low\"], df[\"Close\"], lbp=14, fillna=False)\n",
    "# 1 df['cci']=ta.trend.cci(df[\"High\"], df[\"Low\"], df[\"Close\"], n=20, c=0.015, fillna=False) \n",
    "\n",
    "# 2 df['rsi']=ta.momentum.RSIIndicator(df[\"Close\"], window=14, fillna=False)\n",
    "# 2 df['r']=ta.momentum.WilliamsRIndicator(df[\"High\"], df[\"Low\"], df[\"Close\"], lbp=14, fillna=False)\n",
    "# 2 df['cci']=ta.trend.CCIIndicator(df[\"High\"], df[\"Low\"], df[\"Close\"], window=20, constant=0.015, fillna=False) \n",
    "\n",
    "# 3 df['rsi']=ta.momentum.rsi(df[\"Close\"])\n",
    "# 3 df['r']=ta.momentum.WilliamsRIndicator(df[\"High\"], df[\"Low\"], df[\"Close\"]).williams_r()\n",
    "# 3 df['cci']=ta.trend.cci(df[\"High\"], df[\"Low\"], df[\"Close\"])\n",
    "\n",
    "df['rsi']=ta.momentum.RSIIndicator(df[\"Close\"], window=14, fillna=False).rsi()\n",
    "df['r']=ta.momentum.WilliamsRIndicator(df[\"High\"], df[\"Low\"], df[\"Close\"], lbp=14, fillna=False).williams_r()\n",
    "df['cci']=ta.trend.CCIIndicator(df[\"High\"], df[\"Low\"], df[\"Close\"], window=20, constant=0.015, fillna=False).cci()"
   ]
  },
  {
   "cell_type": "code",
   "execution_count": 67,
   "id": "frozen-occasion",
   "metadata": {},
   "outputs": [],
   "source": [
    "df[\"m1\"]=(df[\"Close\"]/df[\"Close\"].shift(1))*100\n",
    "df[\"m2\"]=(df[\"Close\"]/df[\"Close\"].shift(2))*100\n",
    "df[\"m3\"]=(df[\"Close\"]/df[\"Close\"].shift(3))*100"
   ]
  },
  {
   "cell_type": "code",
   "execution_count": 68,
   "id": "painful-disability",
   "metadata": {},
   "outputs": [],
   "source": [
    "df[\"pvc\"]=(df[\"Volume\"]-df[\"Volume\"].shift(1))/df[\"Volume\"].shift(1)*100\n",
    "df[\"pdc\"]=(df[\"Close\"]-df[\"Close\"].shift(1))/df[\"Close\"].shift(1)*100"
   ]
  },
  {
   "cell_type": "code",
   "execution_count": 69,
   "id": "opponent-audience",
   "metadata": {},
   "outputs": [],
   "source": [
    "df['std_3'] = df['pdc'].rolling(5).std()\n",
    "df['ret_3'] = df['pdc'].rolling(5).mean()"
   ]
  },
  {
   "cell_type": "code",
   "execution_count": 70,
   "id": "perceived-ladder",
   "metadata": {},
   "outputs": [],
   "source": [
    "df[\"nextOpen\"]=(df[\"Open\"].shift(-1)-df[\"Close\"])/df[\"Close\"]*100"
   ]
  },
  {
   "cell_type": "code",
   "execution_count": 71,
   "id": "increasing-optics",
   "metadata": {},
   "outputs": [],
   "source": [
    "df[\"oc1\"]=df[\"oc\"].shift(-1)"
   ]
  },
  {
   "cell_type": "code",
   "execution_count": 72,
   "id": "valuable-rhythm",
   "metadata": {},
   "outputs": [],
   "source": [
    "df[\"pdc1\"]=df[\"pdc\"].shift(-1)"
   ]
  },
  {
   "cell_type": "code",
   "execution_count": 73,
   "id": "vanilla-pride",
   "metadata": {},
   "outputs": [],
   "source": [
    "df[\"Signal\"]=np.where(((df['pdc1'] >= 0.5)),\"BUY\",(np.where(((df['pdc1'] <= -1)),\"SELL\",\"HOLD\")))"
   ]
  },
  {
   "cell_type": "code",
   "execution_count": 74,
   "id": "martial-optimum",
   "metadata": {},
   "outputs": [
    {
     "data": {
      "text/plain": [
       "HOLD    624\n",
       "BUY     332\n",
       "SELL    109\n",
       "Name: Signal, dtype: int64"
      ]
     },
     "execution_count": 74,
     "metadata": {},
     "output_type": "execute_result"
    }
   ],
   "source": [
    "df[\"Signal\"].value_counts()"
   ]
  },
  {
   "cell_type": "code",
   "execution_count": 75,
   "id": "helpful-frost",
   "metadata": {},
   "outputs": [],
   "source": [
    "X=df[['ho','ol','oc','hl','pdc','m1','m2','m3','rsi','r','cci','nextOpen']]\n",
    "#X=df[['ho','ol','oc','hl','pvc','pdc','m1','m2','m3','rsi','r','cci','nextOpen']]"
   ]
  },
  {
   "cell_type": "code",
   "execution_count": 76,
   "id": "military-techno",
   "metadata": {},
   "outputs": [],
   "source": [
    "Y=df[['Signal']]"
   ]
  },
  {
   "cell_type": "code",
   "execution_count": 77,
   "id": "forty-environment",
   "metadata": {},
   "outputs": [
    {
     "data": {
      "text/plain": [
       "1065"
      ]
     },
     "execution_count": 77,
     "metadata": {},
     "output_type": "execute_result"
    }
   ],
   "source": [
    "len(X)"
   ]
  },
  {
   "cell_type": "code",
   "execution_count": 78,
   "id": "daily-rabbit",
   "metadata": {},
   "outputs": [
    {
     "data": {
      "text/plain": [
       "1065"
      ]
     },
     "execution_count": 78,
     "metadata": {},
     "output_type": "execute_result"
    }
   ],
   "source": [
    "len(Y)"
   ]
  },
  {
   "cell_type": "code",
   "execution_count": 79,
   "id": "impressed-blood",
   "metadata": {},
   "outputs": [
    {
     "data": {
      "text/plain": [
       "True"
      ]
     },
     "execution_count": 79,
     "metadata": {},
     "output_type": "execute_result"
    }
   ],
   "source": [
    "X[1:].isnull().values.any()"
   ]
  },
  {
   "cell_type": "code",
   "execution_count": 80,
   "id": "japanese-heaven",
   "metadata": {},
   "outputs": [
    {
     "data": {
      "text/plain": [
       "852"
      ]
     },
     "execution_count": 80,
     "metadata": {},
     "output_type": "execute_result"
    }
   ],
   "source": [
    "# Total dataset length\n",
    "dataset_length = df.shape[0]\n",
    "\n",
    "# Training dataset length\n",
    "split = int(dataset_length * 0.8)\n",
    "\n",
    "split"
   ]
  },
  {
   "cell_type": "code",
   "execution_count": 81,
   "id": "abandoned-ukraine",
   "metadata": {},
   "outputs": [],
   "source": [
    "X_train = X[21:split]\n",
    "X_test = X[split:-2]\n",
    "Y_train = Y[21:split]\n",
    "Y_test = Y[split:-2]\n"
   ]
  },
  {
   "cell_type": "code",
   "execution_count": 82,
   "id": "supported-weekly",
   "metadata": {},
   "outputs": [
    {
     "name": "stdout",
     "output_type": "stream",
     "text": [
      "(831, 12) (211, 12)\n",
      "(831, 1) (211, 1)\n"
     ]
    }
   ],
   "source": [
    "# Print the size of the train and test dataset\n",
    "print(X_train.shape, X_test.shape)\n",
    "print(Y_train.shape, Y_test.shape)"
   ]
  },
  {
   "cell_type": "code",
   "execution_count": 83,
   "id": "limited-pitch",
   "metadata": {},
   "outputs": [],
   "source": [
    "from sklearn.ensemble import RandomForestClassifier\n",
    "from sklearn.datasets import make_classification"
   ]
  },
  {
   "cell_type": "code",
   "execution_count": 84,
   "id": "sudden-telescope",
   "metadata": {},
   "outputs": [
    {
     "name": "stderr",
     "output_type": "stream",
     "text": [
      "c:\\users\\harsh\\appdata\\local\\programs\\python\\python36\\lib\\site-packages\\ipykernel_launcher.py:2: DataConversionWarning: A column-vector y was passed when a 1d array was expected. Please change the shape of y to (n_samples,), for example using ravel().\n",
      "  \n"
     ]
    },
    {
     "data": {
      "text/plain": [
       "RandomForestClassifier(random_state=5)"
      ]
     },
     "execution_count": 84,
     "metadata": {},
     "output_type": "execute_result"
    }
   ],
   "source": [
    "clf = RandomForestClassifier(n_estimators=100,random_state=5)\n",
    "clf.fit(X_train, Y_train)"
   ]
  },
  {
   "cell_type": "code",
   "execution_count": 85,
   "id": "nearby-twelve",
   "metadata": {},
   "outputs": [],
   "source": [
    "p=clf.predict(X_train)"
   ]
  },
  {
   "cell_type": "code",
   "execution_count": 86,
   "id": "delayed-chess",
   "metadata": {},
   "outputs": [
    {
     "data": {
      "text/plain": [
       "array(['BUY', 'HOLD', 'SELL'], dtype=object)"
      ]
     },
     "execution_count": 86,
     "metadata": {},
     "output_type": "execute_result"
    }
   ],
   "source": [
    "np.unique(p)"
   ]
  },
  {
   "cell_type": "code",
   "execution_count": 88,
   "id": "american-company",
   "metadata": {},
   "outputs": [
    {
     "name": "stdout",
     "output_type": "stream",
     "text": [
      "              precision    recall  f1-score   support\n",
      "\n",
      "         BUY       1.00      1.00      1.00       236\n",
      "        HOLD       1.00      1.00      1.00       518\n",
      "        SELL       1.00      1.00      1.00        77\n",
      "\n",
      "    accuracy                           1.00       831\n",
      "   macro avg       1.00      1.00      1.00       831\n",
      "weighted avg       1.00      1.00      1.00       831\n",
      "\n"
     ]
    }
   ],
   "source": [
    "from sklearn.metrics import classification_report\n",
    "report = classification_report(Y_train, p)\n",
    "print(report)"
   ]
  },
  {
   "cell_type": "code",
   "execution_count": 89,
   "id": "jewish-calculation",
   "metadata": {},
   "outputs": [
    {
     "name": "stdout",
     "output_type": "stream",
     "text": [
      "Confusion Matrix :\n",
      "[[236   0   0]\n",
      " [  0 518   0]\n",
      " [  0   0  77]]\n",
      "Accuracy Score : 1.0\n"
     ]
    }
   ],
   "source": [
    "# Python script for confusion matrix creation. \n",
    "from sklearn.metrics import confusion_matrix \n",
    "from sklearn.metrics import accuracy_score \n",
    "from sklearn.metrics import classification_report \n",
    "results = confusion_matrix(Y_train, p) \n",
    "print('Confusion Matrix :')\n",
    "print(results) \n",
    "print('Accuracy Score :',accuracy_score(Y_train, p))\n"
   ]
  },
  {
   "cell_type": "code",
   "execution_count": 90,
   "id": "loose-empire",
   "metadata": {},
   "outputs": [],
   "source": [
    "t=clf.predict(X_test)"
   ]
  },
  {
   "cell_type": "code",
   "execution_count": 91,
   "id": "velvet-graphics",
   "metadata": {},
   "outputs": [
    {
     "data": {
      "text/plain": [
       "array(['BUY', 'HOLD', 'SELL'], dtype=object)"
      ]
     },
     "execution_count": 91,
     "metadata": {},
     "output_type": "execute_result"
    }
   ],
   "source": [
    "np.unique(t)"
   ]
  },
  {
   "cell_type": "code",
   "execution_count": 92,
   "id": "referenced-literature",
   "metadata": {},
   "outputs": [
    {
     "name": "stdout",
     "output_type": "stream",
     "text": [
      "Confusion Matrix :\n",
      "[[30 59  0]\n",
      " [18 71  2]\n",
      " [ 3 26  2]]\n",
      "Accuracy Score : 0.4881516587677725\n"
     ]
    }
   ],
   "source": [
    "results = confusion_matrix(Y_test, t) \n",
    "print('Confusion Matrix :')\n",
    "print(results) \n",
    "print('Accuracy Score :',accuracy_score(Y_test, t))\n"
   ]
  },
  {
   "cell_type": "code",
   "execution_count": 93,
   "id": "inner-meditation",
   "metadata": {},
   "outputs": [
    {
     "name": "stdout",
     "output_type": "stream",
     "text": [
      "              precision    recall  f1-score   support\n",
      "\n",
      "         BUY       0.59      0.34      0.43        89\n",
      "        HOLD       0.46      0.78      0.57        91\n",
      "        SELL       0.50      0.06      0.11        31\n",
      "\n",
      "    accuracy                           0.49       211\n",
      "   macro avg       0.51      0.39      0.37       211\n",
      "weighted avg       0.52      0.49      0.45       211\n",
      "\n"
     ]
    }
   ],
   "source": [
    "report = classification_report(Y_test, t)\n",
    "print(report)"
   ]
  },
  {
   "cell_type": "code",
   "execution_count": 94,
   "id": "bright-heritage",
   "metadata": {},
   "outputs": [
    {
     "data": {
      "text/plain": [
       "array([0.07983384, 0.06829465, 0.07078411, 0.08316294, 0.0639127 ,\n",
       "       0.06713321, 0.07297042, 0.07087711, 0.08857615, 0.07448443,\n",
       "       0.08206322, 0.17790721])"
      ]
     },
     "execution_count": 94,
     "metadata": {},
     "output_type": "execute_result"
    }
   ],
   "source": [
    "clf.feature_importances_"
   ]
  },
  {
   "cell_type": "code",
   "execution_count": 95,
   "id": "ordinary-advertising",
   "metadata": {},
   "outputs": [
    {
     "data": {
      "text/plain": [
       "array(['HOLD', 'HOLD', 'HOLD', 'HOLD', 'BUY', 'HOLD', 'HOLD', 'HOLD',\n",
       "       'HOLD', 'HOLD', 'HOLD', 'HOLD', 'HOLD', 'BUY', 'BUY', 'HOLD',\n",
       "       'BUY', 'HOLD', 'HOLD', 'HOLD', 'HOLD', 'HOLD', 'HOLD', 'HOLD',\n",
       "       'BUY', 'HOLD', 'HOLD', 'BUY', 'BUY', 'BUY', 'HOLD', 'BUY', 'HOLD',\n",
       "       'HOLD', 'HOLD', 'HOLD', 'HOLD', 'HOLD', 'BUY', 'HOLD', 'HOLD',\n",
       "       'HOLD', 'HOLD', 'HOLD', 'HOLD', 'HOLD', 'HOLD', 'BUY', 'HOLD',\n",
       "       'HOLD', 'HOLD', 'BUY', 'HOLD', 'HOLD', 'BUY', 'HOLD', 'BUY',\n",
       "       'HOLD', 'HOLD', 'HOLD', 'HOLD', 'HOLD', 'BUY', 'BUY', 'SELL',\n",
       "       'HOLD', 'BUY', 'HOLD', 'BUY', 'HOLD', 'HOLD', 'HOLD', 'HOLD',\n",
       "       'HOLD', 'HOLD', 'HOLD', 'HOLD', 'HOLD', 'HOLD', 'BUY', 'HOLD',\n",
       "       'HOLD', 'BUY', 'HOLD', 'HOLD', 'HOLD', 'HOLD', 'HOLD', 'HOLD',\n",
       "       'HOLD', 'BUY', 'HOLD', 'HOLD', 'BUY', 'HOLD', 'BUY', 'HOLD',\n",
       "       'HOLD', 'HOLD', 'HOLD', 'HOLD', 'HOLD', 'HOLD', 'BUY', 'HOLD',\n",
       "       'HOLD', 'HOLD', 'BUY', 'HOLD', 'BUY', 'HOLD', 'BUY', 'HOLD',\n",
       "       'HOLD', 'HOLD', 'HOLD', 'HOLD', 'HOLD', 'HOLD', 'HOLD', 'HOLD',\n",
       "       'HOLD', 'HOLD', 'HOLD', 'BUY', 'HOLD', 'HOLD', 'HOLD', 'HOLD',\n",
       "       'HOLD', 'HOLD', 'BUY', 'HOLD', 'HOLD', 'HOLD', 'HOLD', 'HOLD',\n",
       "       'HOLD', 'HOLD', 'HOLD', 'HOLD', 'HOLD', 'BUY', 'HOLD', 'HOLD',\n",
       "       'HOLD', 'HOLD', 'HOLD', 'HOLD', 'BUY', 'BUY', 'BUY', 'BUY', 'HOLD',\n",
       "       'HOLD', 'HOLD', 'HOLD', 'HOLD', 'HOLD', 'HOLD', 'HOLD', 'HOLD',\n",
       "       'HOLD', 'HOLD', 'HOLD', 'HOLD', 'BUY', 'HOLD', 'BUY', 'HOLD',\n",
       "       'HOLD', 'HOLD', 'HOLD', 'SELL', 'HOLD', 'BUY', 'BUY', 'HOLD',\n",
       "       'HOLD', 'HOLD', 'BUY', 'BUY', 'BUY', 'HOLD', 'HOLD', 'BUY', 'HOLD',\n",
       "       'HOLD', 'BUY', 'BUY', 'HOLD', 'BUY', 'HOLD', 'BUY', 'HOLD', 'HOLD',\n",
       "       'HOLD', 'HOLD', 'BUY', 'HOLD', 'HOLD', 'HOLD', 'BUY', 'HOLD',\n",
       "       'SELL', 'BUY', 'HOLD', 'BUY', 'BUY', 'HOLD', 'SELL'], dtype=object)"
      ]
     },
     "execution_count": 95,
     "metadata": {},
     "output_type": "execute_result"
    }
   ],
   "source": [
    "t"
   ]
  },
  {
   "cell_type": "code",
   "execution_count": null,
   "id": "offensive-signal",
   "metadata": {},
   "outputs": [],
   "source": []
  }
 ],
 "metadata": {
  "kernelspec": {
   "display_name": "Python 3",
   "language": "python",
   "name": "python3"
  },
  "language_info": {
   "codemirror_mode": {
    "name": "ipython",
    "version": 3
   },
   "file_extension": ".py",
   "mimetype": "text/x-python",
   "name": "python",
   "nbconvert_exporter": "python",
   "pygments_lexer": "ipython3",
   "version": "3.6.8"
  }
 },
 "nbformat": 4,
 "nbformat_minor": 5
}
