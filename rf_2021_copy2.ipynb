{
 "cells": [
  {
   "cell_type": "code",
   "execution_count": 1,
   "id": "suited-magnitude",
   "metadata": {},
   "outputs": [],
   "source": [
    "import datetime\n",
    "import numpy as np\n",
    "from matplotlib import cm, pyplot as plt\n",
    "import pandas as pd\n",
    "from pandas_datareader import data\n",
    "import ta\n",
    "from sklearn.ensemble import RandomForestClassifier\n",
    "from sklearn.datasets import make_classification\n",
    "from sklearn.metrics import classification_report\n",
    "from sklearn.metrics import confusion_matrix \n",
    "from sklearn.metrics import accuracy_score"
   ]
  },
  {
   "cell_type": "code",
   "execution_count": 2,
   "id": "thousand-diamond",
   "metadata": {},
   "outputs": [
    {
     "name": "stdout",
     "output_type": "stream",
     "text": [
      "2021-06-11\n",
      "2019-06-12\n"
     ]
    }
   ],
   "source": [
    "todays_date = datetime.datetime.today()\n",
    "start_date = todays_date - datetime.timedelta(days=2*365)\n",
    "todays_date = todays_date.strftime(\"%Y-%m-%d\")\n",
    "start_date = start_date.strftime(\"%Y-%m-%d\")\n",
    "#df = data.DataReader(\"GAIL.NS\",start='2017-01-01',end='2021-05-04', data_source='yahoo')\n",
    "print(todays_date)\n",
    "print(start_date)\n",
    "df = data.DataReader(\"GAIL.NS\",start=start_date,end=todays_date, data_source='yahoo')\n",
    "df.to_csv(\"./static/tcs_ns.csv\")"
   ]
  },
  {
   "cell_type": "code",
   "execution_count": 3,
   "id": "cloudy-barcelona",
   "metadata": {},
   "outputs": [],
   "source": [
    "df=pd.read_csv(\"./static/tcs_ns.csv\")"
   ]
  },
  {
   "cell_type": "code",
   "execution_count": 4,
   "id": "spiritual-director",
   "metadata": {},
   "outputs": [],
   "source": [
    "df[\"ho\"]=(((df.High-df.Open)/df.Open)*100)\n",
    "df[\"ol\"]=(((df.Open-df.Low)/df.Open)*100)\n",
    "df[\"oc\"]=(((df.Open-df.Close)/df.Open)*100)\n",
    "df[\"hl\"]=(((df.High-df.Low)/df.Low)*100)\n",
    "df['rsi']=ta.momentum.RSIIndicator(df[\"Close\"], window=14, fillna=False).rsi()\n",
    "df['r']=ta.momentum.WilliamsRIndicator(df[\"High\"], df[\"Low\"], df[\"Close\"], lbp=14, fillna=False).williams_r()\n",
    "df['cci']=ta.trend.CCIIndicator(df[\"High\"], df[\"Low\"], df[\"Close\"], window=20, constant=0.015, fillna=False).cci()\n",
    "df[\"m1\"]=(df[\"Close\"]/df[\"Close\"].shift(1))*100\n",
    "df[\"m2\"]=(df[\"Close\"]/df[\"Close\"].shift(2))*100\n",
    "df[\"m3\"]=(df[\"Close\"]/df[\"Close\"].shift(3))*100\n",
    "df[\"pvc\"]=(df[\"Volume\"]-df[\"Volume\"].shift(1))/df[\"Volume\"].shift(1)*100\n",
    "df[\"pdc\"]=(df[\"Close\"]-df[\"Close\"].shift(1))/df[\"Close\"].shift(1)*100\n",
    "df['std_3'] = df['pdc'].rolling(5).std()\n",
    "df['ret_3'] = df['pdc'].rolling(5).mean()\n",
    "# df[\"nextOpen\"]=(df[\"Open\"].shift(-1)-df[\"Close\"])/df[\"Close\"]*100\n",
    "df[\"nextOpen\"]=(df[\"Open\"]-df[\"Close\"].shift(1))/df[\"Close\"].shift(1)*100\n",
    "df[\"oc1\"]=df[\"oc\"].shift(-1)\n",
    "df[\"pdc1\"]=df[\"pdc\"].shift(-1)\n",
    "df[\"Signal\"]=np.where(((df['pdc1'] >= 0.5)),\"BUY\",(np.where(((df['pdc1'] <= -1)),\"SELL\",\"HOLD\")))\n",
    "df[\"Signal\"].value_counts()\n",
    "X=df[['ho','ol','oc','hl','pdc','m1','m2','m3','rsi','r','cci','nextOpen']]\n",
    "Y=df[['Signal']]"
   ]
  },
  {
   "cell_type": "code",
   "execution_count": 5,
   "id": "thick-medicaid",
   "metadata": {},
   "outputs": [],
   "source": [
    "# len(Y)"
   ]
  },
  {
   "cell_type": "code",
   "execution_count": 6,
   "id": "revolutionary-booth",
   "metadata": {},
   "outputs": [
    {
     "name": "stdout",
     "output_type": "stream",
     "text": [
      "(374, 12) (97, 12)\n",
      "(374, 1) (97, 1)\n"
     ]
    }
   ],
   "source": [
    "# Total dataset length\n",
    "dataset_length = df.shape[0]\n",
    "\n",
    "# Training dataset length\n",
    "split = int(dataset_length * 0.8)\n",
    "X_train = X[21:split]\n",
    "X_test = X[split:-2]\n",
    "Y_train = Y[21:split]\n",
    "Y_test = Y[split:-2]\n",
    "print(X_train.shape, X_test.shape)\n",
    "print(Y_train.shape, Y_test.shape)"
   ]
  },
  {
   "cell_type": "code",
   "execution_count": 7,
   "id": "backed-treaty",
   "metadata": {},
   "outputs": [
    {
     "name": "stderr",
     "output_type": "stream",
     "text": [
      "c:\\users\\harsh\\appdata\\local\\programs\\python\\python36\\lib\\site-packages\\ipykernel_launcher.py:2: DataConversionWarning: A column-vector y was passed when a 1d array was expected. Please change the shape of y to (n_samples,), for example using ravel().\n",
      "  \n"
     ]
    },
    {
     "data": {
      "text/plain": [
       "RandomForestClassifier(random_state=5)"
      ]
     },
     "execution_count": 7,
     "metadata": {},
     "output_type": "execute_result"
    }
   ],
   "source": [
    "clf = RandomForestClassifier(n_estimators=100,random_state=5)\n",
    "clf.fit(X_train, Y_train)"
   ]
  },
  {
   "cell_type": "code",
   "execution_count": 8,
   "id": "sporting-manhattan",
   "metadata": {},
   "outputs": [],
   "source": [
    "# p=clf.predict(X_train)\n",
    "# report = classification_report(Y_train, p)\n",
    "# print(report)\n",
    "# results = confusion_matrix(Y_train, p) \n",
    "# print('Confusion Matrix :')\n",
    "# print(results) \n",
    "# print('Accuracy Score :',accuracy_score(Y_train, p))"
   ]
  },
  {
   "cell_type": "code",
   "execution_count": 9,
   "id": "assigned-recall",
   "metadata": {},
   "outputs": [],
   "source": [
    "# t=clf.predict(X_test)\n",
    "# results = confusion_matrix(Y_test, t) \n",
    "# print('Confusion Matrix :')\n",
    "# print(results) \n",
    "# print('Accuracy Score :',accuracy_score(Y_test, t))\n",
    "# report = classification_report(Y_test, t)\n",
    "# print(report)"
   ]
  },
  {
   "cell_type": "code",
   "execution_count": 10,
   "id": "about-swing",
   "metadata": {},
   "outputs": [
    {
     "name": "stdout",
     "output_type": "stream",
     "text": [
      "prediction\n",
      "['BUY']\n"
     ]
    }
   ],
   "source": [
    "n = df[['ho','ol','oc','hl','pdc','m1','m2','m3','rsi','r','cci','nextOpen']][-1:]\n",
    "t1 = clf.predict(n)\n",
    "print('prediction')\n",
    "print((t1))"
   ]
  },
  {
   "cell_type": "code",
   "execution_count": null,
   "id": "monthly-stick",
   "metadata": {},
   "outputs": [],
   "source": []
  }
 ],
 "metadata": {
  "kernelspec": {
   "display_name": "Python 3",
   "language": "python",
   "name": "python3"
  },
  "language_info": {
   "codemirror_mode": {
    "name": "ipython",
    "version": 3
   },
   "file_extension": ".py",
   "mimetype": "text/x-python",
   "name": "python",
   "nbconvert_exporter": "python",
   "pygments_lexer": "ipython3",
   "version": "3.6.8"
  }
 },
 "nbformat": 4,
 "nbformat_minor": 5
}
