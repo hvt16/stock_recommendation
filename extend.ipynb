{
 "cells": [
  {
   "cell_type": "code",
   "execution_count": 2,
   "id": "crucial-diagram",
   "metadata": {},
   "outputs": [],
   "source": [
    "import datetime\n",
    "import numpy as np\n",
    "import pandas as pd\n",
    "from pandas_datareader import data\n",
    "import ta\n",
    "from math import sqrt"
   ]
  },
  {
   "cell_type": "code",
   "execution_count": 3,
   "id": "banner-zambia",
   "metadata": {},
   "outputs": [
    {
     "name": "stdout",
     "output_type": "stream",
     "text": [
      "2021-06-27\n",
      "2021-06-19\n"
     ]
    }
   ],
   "source": [
    "todays_date = datetime.datetime.today()\n",
    "start_date = todays_date - datetime.timedelta(days=8)\n",
    "todays_date = todays_date.strftime(\"%Y-%m-%d\")\n",
    "start_date = start_date.strftime(\"%Y-%m-%d\")\n",
    "#df = data.DataReader(\"GAIL.NS\",start='2017-01-01',end='2021-05-04', data_source='yahoo')\n",
    "print(todays_date)\n",
    "print(start_date)\n",
    "df = data.DataReader(\"GAIL.NS\",start=start_date,end=todays_date, data_source='yahoo')\n",
    "df.to_csv(\"./static/tcs_ns.csv\")"
   ]
  },
  {
   "cell_type": "code",
   "execution_count": 4,
   "id": "unlikely-cancer",
   "metadata": {},
   "outputs": [],
   "source": [
    "df=pd.read_csv(\"./static/tcs_ns.csv\")"
   ]
  },
  {
   "cell_type": "markdown",
   "id": "verified-template",
   "metadata": {},
   "source": [
    "AVERAGE VOLUME"
   ]
  },
  {
   "cell_type": "code",
   "execution_count": 5,
   "id": "worse-survey",
   "metadata": {},
   "outputs": [
    {
     "name": "stdout",
     "output_type": "stream",
     "text": [
      "avg volume of last 7 days = 8852807.8\n"
     ]
    }
   ],
   "source": [
    "print(\"avg volume of last 7 days =\",sum(df[\"Volume\"])/len(df[\"Volume\"]))"
   ]
  },
  {
   "cell_type": "markdown",
   "id": "weird-baghdad",
   "metadata": {},
   "source": [
    "VOLATILITY"
   ]
  },
  {
   "cell_type": "code",
   "execution_count": 6,
   "id": "exciting-murder",
   "metadata": {},
   "outputs": [
    {
     "name": "stdout",
     "output_type": "stream",
     "text": [
      "daily_volatility =  1.2194255689746585\n"
     ]
    }
   ],
   "source": [
    "p_avg = sum(df[\"Adj Close\"])/len(df[\"Adj Close\"])\n",
    "sq_sum = 0\n",
    "for p_i in df[\"Adj Close\"]:\n",
    "    sq_deviation = (p_avg - p_i)**2\n",
    "    sq_sum += sq_deviation\n",
    "variance = sq_sum/len(df[\"Adj Close\"])\n",
    "daily_volatility = sqrt(variance)\n",
    "print(\"daily_volatility = \",daily_volatility)"
   ]
  },
  {
   "cell_type": "markdown",
   "id": "friendly-exception",
   "metadata": {},
   "source": [
    "UPSIDE"
   ]
  },
  {
   "cell_type": "code",
   "execution_count": 7,
   "id": "voluntary-culture",
   "metadata": {},
   "outputs": [
    {
     "name": "stdout",
     "output_type": "stream",
     "text": [
      "upsides :  [2.644628099173554, 0.2582370374660913, 0.4256772549208097, 0.3294892915980231, 0.5582962913074713]\n",
      "max upside : 2.64 %\n",
      "avg upside : 0.84 %\n"
     ]
    }
   ],
   "source": [
    "upsides = [((df[\"Adj Close\"][i] - df[\"Low\"][i])/df[\"Low\"][i])*100 for i in range(len(df[\"Low\"]))]\n",
    "print(\"upsides : \",upsides)\n",
    "print(\"max upside :\",round(max(upsides),2),\"%\")\n",
    "avg_upside = sum(upsides)/(len(upsides))\n",
    "print(\"avg upside :\",round(avg_upside,2),\"%\")"
   ]
  },
  {
   "cell_type": "markdown",
   "id": "baking-billy",
   "metadata": {},
   "source": [
    "DOWNSIDE"
   ]
  },
  {
   "cell_type": "code",
   "execution_count": 8,
   "id": "similar-manor",
   "metadata": {},
   "outputs": [
    {
     "name": "stdout",
     "output_type": "stream",
     "text": [
      "downsides : [0.5763649898577664, 2.142403252593153, 2.32483687674164, 1.7424956446717872, 1.0342539601095595]\n",
      "max downside : 2.32 %\n",
      "avg downside : 1.56 %\n"
     ]
    }
   ],
   "source": [
    "downsides = [((df[\"High\"][i] - df[\"Adj Close\"][i])/df[\"High\"][i])*100 for i in range(len(df[\"Low\"]))]\n",
    "print(\"downsides :\",downsides)\n",
    "print(\"max downside :\",round(max(downsides),2),\"%\")\n",
    "avg_downside = sum(downsides)/len(downsides)\n",
    "print(\"avg downside :\",round(avg_downside,2),\"%\")"
   ]
  },
  {
   "cell_type": "code",
   "execution_count": null,
   "id": "handmade-continuity",
   "metadata": {},
   "outputs": [],
   "source": []
  }
 ],
 "metadata": {
  "kernelspec": {
   "display_name": "Python 3",
   "language": "python",
   "name": "python3"
  },
  "language_info": {
   "codemirror_mode": {
    "name": "ipython",
    "version": 3
   },
   "file_extension": ".py",
   "mimetype": "text/x-python",
   "name": "python",
   "nbconvert_exporter": "python",
   "pygments_lexer": "ipython3",
   "version": "3.6.8"
  }
 },
 "nbformat": 4,
 "nbformat_minor": 5
}
